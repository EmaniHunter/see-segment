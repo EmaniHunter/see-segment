{
 "cells": [
  {
   "cell_type": "markdown",
   "metadata": {},
   "source": [
    "# Long Run Analysis"
   ]
  },
  {
   "cell_type": "code",
   "execution_count": null,
   "metadata": {},
   "outputs": [],
   "source": [
    "from see import DataDownload as dd\n",
    "imagefiles = []\n",
    "maskfiles = []\n",
    "outputfiles = []\n",
    "\n",
    "print(\"Adding COSKEL Data\")\n",
    "files = dd.getCOSKELFolderlists(folder='./Image_Data/', outputfolder='./Image_Data/Output/')\n",
    "imagefiles += files[0]\n",
    "maskfiles += files[1]\n",
    "outputfiles += files[2]\n",
    "\n",
    "print(\"Adding Sky Data\")\n",
    "files = dd.getSkyFolderLists(folder='./Image_Data/', outputfolder='./Image_Data/Output/')\n",
    "imagefiles += files[0]\n",
    "maskfiles += files[1]\n",
    "outputfiles += files[2]"
   ]
  },
  {
   "cell_type": "code",
   "execution_count": null,
   "metadata": {},
   "outputs": [],
   "source": [
    "from see import DataDownload as dd\n",
    "\n",
    "\n",
    "#KOMATSUNA_output \n",
    "prefix = 20\n",
    "folder = 'Image_Data/KOMATSUNA_output/'\n",
    "\n",
    "imagefiles = []\n",
    "maskfiles = []\n",
    "outputfiles = []\n",
    "\n",
    "print(\"Adding KOMATSUNA Data\")\n",
    "files = dd.getKomatsunaFolderLists(folder='./Image_Data/', outputfolder='./Image_Data/KOMATSUNA_output/')\n",
    "imagefiles += files[0]\n",
    "maskfiles += files[1]\n",
    "outputfiles += files[2]\n"
   ]
  },
  {
   "cell_type": "code",
   "execution_count": null,
   "metadata": {},
   "outputs": [],
   "source": [
    "prefix = 0"
   ]
  },
  {
   "cell_type": "code",
   "execution_count": null,
   "metadata": {},
   "outputs": [],
   "source": [
    "%matplotlib inline\n",
    "import matplotlib.pylab as plt\n",
    "import numpy as np\n",
    "from pathlib import Path\n",
    "\n",
    "p = Path('.')\n",
    "filenames = list(p.glob(f'{prefix}_*.output'))\n",
    "\n",
    "fitness = []\n",
    "pop = []\n",
    "for filename in filenames:\n",
    "    fid  = open(filename, 'r')\n",
    "    lines = fid.readlines() \n",
    "    for line in lines:\n",
    "        if 'BEST' in line:\n",
    "            fitness.append(eval(line.split('-')[1]))\n",
    "            pop.append(eval(line.split(' - ')[2]))\n",
    "    \n",
    "fitness = np.array(fitness)\n",
    "fitness = list(fitness[:,0])\n",
    "fitness.sort(reverse=True)\n",
    "plt.plot(fitness)\n",
    "plt.xlabel('Generation')\n",
    "plt.ylabel('Fitness')\n",
    "plt.savefig(f'{filename}.png')\n",
    "\n",
    "\n",
    "# if name == \"__main__\":\n",
    "#     import fileinput\n",
    "\n",
    "#     fid = fileinput.input()\n",
    "#     for line in fileinput.input():\n",
    "#     pass"
   ]
  },
  {
   "cell_type": "code",
   "execution_count": null,
   "metadata": {},
   "outputs": [],
   "source": [
    "from see import Segmentors\n",
    "import imageio\n",
    "\n",
    "img = imageio.imread(imagefiles[prefix])\n",
    "gmask = imageio.imread(maskfiles[prefix])\n",
    "params = pop[-1]\n",
    "seg = Segmentors.algoFromParams(params)\n",
    "mask = seg.evaluate(img)\n",
    "fitness,_,_ = Segmentors.FitnessFunction(mask,gmask)\n",
    "plt.imshow(mask)\n",
    "plt.title(fitness)"
   ]
  },
  {
   "cell_type": "code",
   "execution_count": null,
   "metadata": {},
   "outputs": [],
   "source": []
  }
 ],
 "metadata": {
  "kernelspec": {
   "display_name": "Python 3",
   "language": "python",
   "name": "python3"
  },
  "language_info": {
   "codemirror_mode": {
    "name": "ipython",
    "version": 3
   },
   "file_extension": ".py",
   "mimetype": "text/x-python",
   "name": "python",
   "nbconvert_exporter": "python",
   "pygments_lexer": "ipython3",
   "version": "3.8.1"
  }
 },
 "nbformat": 4,
 "nbformat_minor": 4
}
