{
 "cells": [
  {
   "cell_type": "markdown",
   "metadata": {},
   "source": [
    "# Long Run Analysis"
   ]
  },
  {
   "cell_type": "code",
   "execution_count": 94,
   "metadata": {},
   "outputs": [],
   "source": [
    "prefix = 0"
   ]
  },
  {
   "cell_type": "code",
   "execution_count": 95,
   "metadata": {},
   "outputs": [
    {
     "data": {
      "image/png": "[encoded data removed]",
      "text/plain": [
       "<Figure size 432x288 with 1 Axes>"
      ]
     },
     "metadata": {
      "needs_background": "light"
     },
     "output_type": "display_data"
    }
   ],
   "source": [
    "%matplotlib inline\n",
    "import matplotlib.pylab as plt\n",
    "import numpy as np\n",
    "from pathlib import Path\n",
    "\n",
    "p = Path('.')\n",
    "filenames = list(p.glob(f'{prefix}_*.output'))\n",
    "\n",
    "fitness = []\n",
    "pop = []\n",
    "for filename in filenames:\n",
    "    fid  = open(filename, 'r')\n",
    "    lines = fid.readlines() \n",
    "    for line in lines:\n",
    "        if 'BEST' in line:\n",
    "            fitness.append(eval(line.split('-')[1]))\n",
    "            pop.append(eval(line.split(' - ')[2]))\n",
    "    \n",
    "fitness = np.array(fitness)\n",
    "fitness = list(fitness[:,0])\n",
    "fitness.sort(reverse=True)\n",
    "plt.plot(fitness)\n",
    "plt.xlabel('Generation')\n",
    "plt.ylabel('Fitness')\n",
    "plt.savefig(f'{filename}.png')\n",
    "\n",
    "\n",
    "# if name == \"__main__\":\n",
    "#     import fileinput\n",
    "\n",
    "#     fid = fileinput.input()\n",
    "#     for line in fileinput.input():\n",
    "#     pass"
   ]
  },
  {
   "cell_type": "code",
   "execution_count": 96,
   "metadata": {},
   "outputs": [
    {
     "name": "stdout",
     "output_type": "stream",
     "text": [
      "Adding COSKEL Data\n",
      "Adding Sky Data\n"
     ]
    }
   ],
   "source": [
    "from see import DataDownload as dd\n",
    "imagefiles = []\n",
    "maskfiles = []\n",
    "outputfiles = []\n",
    "\n",
    "print(\"Adding COSKEL Data\")\n",
    "files = dd.getCOSKELFolderlists(folder='./Image_Data/', outputfolder='./Image_Data/Output/')\n",
    "imagefiles += files[0]\n",
    "maskfiles += files[1]\n",
    "outputfiles += files[2]\n",
    "\n",
    "print(\"Adding Sky Data\")\n",
    "files = dd.getSkyFolderLists(folder='./Image_Data/', outputfolder='./Image_Data/Output/')\n",
    "imagefiles += files[0]\n",
    "maskfiles += files[1]\n",
    "outputfiles += files[2]"
   ]
  },
  {
   "cell_type": "code",
   "execution_count": 97,
   "metadata": {},
   "outputs": [
    {
     "name": "stdout",
     "output_type": "stream",
     "text": [
      "trivial solution\n"
     ]
    },
    {
     "data": {
      "text/plain": [
       "Text(0.5, 1.0, '1')"
      ]
     },
     "execution_count": 97,
     "metadata": {},
     "output_type": "execute_result"
    },
    {
     "data": {
      "image/png": "[encoded data removed]",
      "text/plain": [
       "<Figure size 432x288 with 1 Axes>"
      ]
     },
     "metadata": {
      "needs_background": "light"
     },
     "output_type": "display_data"
    }
   ],
   "source": [
    "from see import Segmentors\n",
    "import imageio\n",
    "\n",
    "img = imageio.imread(imagefiles[prefix])\n",
    "gmask = imageio.imread(maskfiles[prefix])\n",
    "params = pop[-1]\n",
    "seg = Segmentors.algoFromParams(params)\n",
    "mask = seg.evaluate(img)\n",
    "fitness,_,_ = Segmentors.FitnessFunction(mask,gmask)\n",
    "plt.imshow(mask)\n",
    "plt.title(fitness)"
   ]
  },
  {
   "cell_type": "code",
   "execution_count": 85,
   "metadata": {},
   "outputs": [
    {
     "data": {
      "text/plain": [
       "[]"
      ]
     },
     "execution_count": 85,
     "metadata": {},
     "output_type": "execute_result"
    }
   ],
   "source": [
    "imagefiles"
   ]
  },
  {
   "cell_type": "code",
   "execution_count": 62,
   "metadata": {},
   "outputs": [
    {
     "name": "stdout",
     "output_type": "stream",
     "text": [
      "MODULENAME = see \r",
      "\r\n",
      "\r",
      "\r\n",
      "help:\r",
      "\r\n",
      "\t@echo \"\"\r",
      "\r\n",
      "\t@echo \"Welcome to Simple Evolutionary Exploration!\"\r",
      "\r\n",
      "\t@echo \"To get started create an environment using:\"\r",
      "\r\n",
      "\t@echo \"\tmake init\"\r",
      "\r\n",
      "\t@echo \"\tconda activate ./envs\"\r",
      "\r\n",
      "\t@echo \"\"\r",
      "\r\n",
      "\t@echo \"To generate project documentation use:\"\r",
      "\r\n",
      "\t@echo \"\tmake doc\"\r",
      "\r\n",
      "\t@echo \"\"\r",
      "\r\n",
      "\t@echo \"To Lint the project use:\"\r",
      "\r\n",
      "\t@echo \"\tmake lint\"\r",
      "\r\n",
      "\t@echo \"\"\r",
      "\r\n",
      "\t@echo \"To run unit tests use:\"\r",
      "\r\n",
      "\t@echo \"\tmake test\"\r",
      "\r\n",
      "\t@echo \"\"\r",
      "\r\n",
      "\t\r",
      "\r\n",
      "\r",
      "\r\n",
      "init:\r",
      "\r\n",
      "\tconda env create --prefix ./envs --file environment.yml\r",
      "\r\n",
      "\r",
      "\r\n",
      "doc:\r",
      "\r\n",
      "\tpdoc --force --html --output-dir ./docs $(MODULENAME)\r",
      "\r\n",
      "\r",
      "\r\n",
      "lint:\r",
      "\r\n",
      "\tpylint $(MODULENAME) \r",
      "\r\n",
      "\r",
      "\r\n",
      "test:\r",
      "\r\n",
      "\tpytest -v $(MODULENAME) \r",
      "\r\n",
      "\r",
      "\r\n",
      ".PHONY: init doc lint test \r",
      "\r\n"
     ]
    }
   ],
   "source": [
    "!cat makefile\n"
   ]
  },
  {
   "cell_type": "code",
   "execution_count": null,
   "metadata": {},
   "outputs": [],
   "source": []
  }
 ],
 "metadata": {
  "kernelspec": {
   "display_name": "Python 3",
   "language": "python",
   "name": "python3"
  },
  "language_info": {
   "codemirror_mode": {
    "name": "ipython",
    "version": 3
   },
   "file_extension": ".py",
   "mimetype": "text/x-python",
   "name": "python",
   "nbconvert_exporter": "python",
   "pygments_lexer": "ipython3",
   "version": "3.7.5"
  }
 },
 "nbformat": 4,
 "nbformat_minor": 2
}
