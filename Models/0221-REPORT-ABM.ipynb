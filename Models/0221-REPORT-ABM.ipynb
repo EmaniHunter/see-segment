{
 "cells": [
  {
   "cell_type": "markdown",
   "metadata": {},
   "source": [
    "# <center>Using Agent Based Models in Genetic Algorithms</center>\n",
    "\n",
    "<center>by Katrina Gensterblum</center>"
   ]
  },
  {
   "cell_type": "markdown",
   "metadata": {},
   "source": [
    "---\n",
    "Agent-based modeling is a powerful computational tool, especially when it comes to solving untraditional problems. Problems that cannot be solved by classical equations, may be able to greatly benefit from the incorporation of agent-based models. Genetic algorithms in particular are one of these types of problems. While genetic algorithms have been shown to be effective in solving a variety of questions, they are not constructed from a series of classical equations so much as a series of steps and experiments. This makes them a perfect candidate to incorporate agent-based modeling into their programs. In fact, some people claim that genetic algorithms already do include agent-based modeling within their structure [1].  \n",
    "\n",
    "Genetic algorithms, as used in our research, consist of a series of steps: initialize a population, apply a fitness function, select individuals, and perform evolution (i.e. crossover and mutation). These steps are combined and repeated throughout the genetic algorithm process for a specified number of generations or until an optimal solution is found. From here we can see how agent-based models can be applied to this set-up.  \n",
    "\n",
    "When generating an agent-based model, the first step is identifying what the agents should be. To do that in the context of genetic algorithms, we focus on the initializing a population step. A “population” is the set of all individuals for a current generation, and an “individual” is an object detailing a possible solution to the larger problem we are trying to solve.  This “individual” is a perfect component to be considered as an “agent” in an agent-based model. To test this idea fully, we should also see if we can make the individual’s behavior adaptive, that is, can it learn from the environment and dynamically change in response to what it learns [2].  \n",
    "\n",
    "As the individual goes through the genetic algorithm a fitness function will be applied to it, and a fitness value can be assigned to the individual. This fitness value can act as information the individual learns. With this, our individual gets closer to being considered a full agent. If we wanted, we could also change the program so the individual learns the fitness values of the individuals around it. The last thing it needs to be able to do, is take this information and change in response to what it learns.  \n",
    "\n",
    "Currently, while the individuals do change, they cannot change by themselves, but rather as part of the whole population. The entire population is evaluated, and the best individuals are kept and mutated. Therefore, it is not possible for an individual to mutate solely based on the fitness value it has. It would need to know the fitness values of every other individual before it could change in response. So, if we implemented that idea from earlier, our individual would learn information about the environment, and from that be able to know whether it should mutate or not. It could also know how to mutate by using our current evolution rules. Thus, our individual could become the agent in our agent-based model.  \n",
    "\n",
    "Now that we have an agent that can learn and adapt, our algorithm needs to be able to create, analyze, and run experiments using these agents [3]. This could be implemented the same way it currently is, by initializing a population of individual agents and running the algorithm over many generations. Once complete, the individual agent with the best fitness value would be reported and we could analyze the results from the experiment.   \n",
    "\n",
    "Agent-based models are a powerful computational tool, and not that different from genetic algorithms. Genetic algorithms already contain many of the key steps of agent-based models, and many of the key components. With just a few minor changes to our individuals, our algorithm could become a true agent-based model. \n"
   ]
  },
  {
   "cell_type": "markdown",
   "metadata": {},
   "source": [
    "---\n",
    "### References\n",
    "\n",
    "[\\[1\\]](https://www.informs.org/ORMS-Today/Public-Articles/October-Volume-38-Number-5/Agent-based-evolutionary-algorithms-Emerging-paradigm-or-buzzwords) Sarker, Ruhul A, and Tapabrata Ray. “Agent-Based Evolutionary Algorithms: Emerging Paradigm or Buzzwords?” Volume&nbsp;38, Number&nbsp;5, October&nbsp;2011, 2019.  \n",
    "\n",
    "[\\[2\\]](https://ieeexplore.ieee.org/stamp/stamp.jsp?tp=&arnumber=5429318&tag=1) Macal, Charles  M, and Michael  J North. “Agent-Based Modeling and Simulation.” Proceedings of the 2009 Winter Simulation Conference, 2009.  \n",
    "\n",
    "[3] Gilbert, Nigel. Agent-Based Models. 2nd ed., SAGE, 2019.  \n"
   ]
  }
 ],
 "metadata": {
  "anaconda-cloud": {},
  "kernelspec": {
   "display_name": "Python 3",
   "language": "python",
   "name": "python3"
  },
  "language_info": {
   "codemirror_mode": {
    "name": "ipython",
    "version": 3
   },
   "file_extension": ".py",
   "mimetype": "text/x-python",
   "name": "python",
   "nbconvert_exporter": "python",
   "pygments_lexer": "ipython3",
   "version": "3.7.4"
  }
 },
 "nbformat": 4,
 "nbformat_minor": 1
}
