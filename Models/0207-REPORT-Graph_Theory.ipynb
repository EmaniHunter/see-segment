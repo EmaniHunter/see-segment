{
 "cells": [
  {
   "cell_type": "markdown",
   "metadata": {},
   "source": [
    "# <center>Using Graph Theory in Genetic Algorithms</center>\n",
    "\n",
    "<center>by Katrina Gensterblum</center>"
   ]
  },
  {
   "cell_type": "markdown",
   "metadata": {},
   "source": [
    "---\n",
    "\n",
    "Our research focuses on the implementation of genetic algorithms with image segmentation. Initially, this appears to be a very algorithmic research area, and not one that could benefit from graph theory. Each process occurs systematically, and it does not seem like it could benefit from a theoretical overview. However, different aspects of graph theory can be incorporated throughout the entire genetic algorithm process. It can help us generate our parameter space, implement our fitness function, and map out the evolution of our population.  \n",
    "\n",
    "One of the main goals for our research over the next few months is to reduce the overall size of our search space. The goal of the genetic algorithm is to find the best segmentation algorithm for the image set, and with that, the best parameters for that algorithm. In order to do that, we have constructed our search space to include every possible input parameter for every segmentation algorithm we are searching over. While this construction works with our genetic algorithm, it takes a lot of time for it to converge to a solution. Reducing this search space, would allow us to reduce this necessary computation time. Unfortunately, reducing the size of our search space is not an easy task. However, by generating a multi-graph, graph theory can aid us in doing this[1]. If we make each segmentation algorithm a distinct, labeled node, and draw edges between algorithms that share parameters, we can quickly and easily see where reductions in the search space can be made. If nodes are connected, then we know to start there when looking for parameters to combine. At the very least, generating this graph can aid us in our justification for why and how these combinations can occur. It would allow us to visualize just how similar each of our segmentation algorithms really are.  \n",
    "\n",
    "Having a good fitness function is equally important to a genetic algorithm’s success as having a good search space. However, with the increasing variety of segmentation algorithms we include, it becomes increasingly difficult to compare the outputs of each method. Some segmentation algorithms output masks with just two segments, whereas others output masks with over a hundred segments. In order to compare the results of every method with the ground truth, we need an easy and general way to map one mask to the other. Computationally, we have come up with a way to do this, but it is difficult to explain. Our method basically uses the logic of weighted graphs though, and we can use this to provide a better overview of what our fitness function does [2]. The function starts by mapping every segment in a method’s resulting mask to the segments it intersects in the ground truth mask. It then assigns the weight of each edge to equal the number of pixels contained in each of these intersections. From there it looks at each segment/node from the resultant mask and keep the edge extending from it which has the greatest weight and remove all other edges. The resulting graph after this process shows how the fitness function maps each segment from one mask to the other.  \n",
    "\n",
    "Along with aiding us the advancement of our research, graph theory can also be used to showcase the processes of the genetic algorithm itself. Often genetic algorithms are explained using a flowchart that connects each step of the algorithm. This flowchart can easily be converted into a labeled graph. Within genetic algorithms, evolution also takes place. An individual will mutate throughout the generations in the search for a solution. This evolution can be mapped by a phylogenetic tree, allowing us to see exactly where a solution came from and how it relates to other individuals in the population [3].  \n",
    "\n",
    "While it may not have seemed obvious at first, we can see now how graph theory can be used throughout the genetic algorithm process. From explaining the overall processes to redefining the search space, graph theory can prove to be extremely useful for our research.\n"
   ]
  },
  {
   "cell_type": "markdown",
   "metadata": {},
   "source": [
    "---\n",
    "### References\n",
    "[1] Balakrishnan, V.K. Graph Theory. McGraw-Hill, 1997.  \n",
    "[2] Fletcher, Peter, et al. Foundations of Discrete Mathematics. PWS-KENT, 1991.  \n",
    "[\\[3\\]](https://evolution-outreach.biomedcentral.com/track/pdf/10.1007/s12052-008-0035-x) Gregory, T. Ryan. “Understanding Evolutionary Trees.” Evolution: Education and Outreach, vol. 1, no. 2, 2008, pp. 121–137.\n"
   ]
  }
 ],
 "metadata": {
  "anaconda-cloud": {},
  "kernelspec": {
   "display_name": "Python 3",
   "language": "python",
   "name": "python3"
  },
  "language_info": {
   "codemirror_mode": {
    "name": "ipython",
    "version": 3
   },
   "file_extension": ".py",
   "mimetype": "text/x-python",
   "name": "python",
   "nbconvert_exporter": "python",
   "pygments_lexer": "ipython3",
   "version": "3.7.4"
  }
 },
 "nbformat": 4,
 "nbformat_minor": 1
}
