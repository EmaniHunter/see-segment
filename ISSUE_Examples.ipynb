{
 "cells": [
  {
   "cell_type": "markdown",
   "metadata": {},
   "source": [
    "# [ISSUE 15](https://github.com/colbrydi/see-segment/issues/15)\n",
    "\n",
    "\n",
    "\n",
    "In the binary case there is a trivial solution that is not trivial. This can be reproduced with the following example:"
   ]
  },
  {
   "cell_type": "code",
   "execution_count": 4,
   "metadata": {},
   "outputs": [
    {
     "name": "stdout",
     "output_type": "stream",
     "text": [
      "trivial solution\n"
     ]
    },
    {
     "data": {
      "text/plain": [
       "1"
      ]
     },
     "execution_count": 4,
     "metadata": {},
     "output_type": "execute_result"
    },
    {
     "data": {
      "image/png": "[encoded data removed]",
      "text/plain": [
       "<Figure size 432x288 with 1 Axes>"
      ]
     },
     "metadata": {
      "needs_background": "light"
     },
     "output_type": "display_data"
    }
   ],
   "source": [
    "%matplotlib inline\n",
    "import matplotlib.pylab as plt\n",
    "import imageio\n",
    "from skimage import color\n",
    "\n",
    "from see import Segmentors\n",
    "\n",
    "img = imageio.imread('Image_data/CO-SKEL_v1.1/images/frog/0007.jpg')\n",
    "gmask = imageio.imread('Image_data/CO-SKEL_v1.1/GT_masks/frog/0007.png')\n",
    "\n",
    "params = ['CT', 7563, 0.13, 2060, 0.01, 4342, 850, 10, 0.57, 1863, 1543, 1, 3, 1, 0.35, (1, 1), 8.1, 'checkerboard', 'checkerboard', 3, 7625, -35, 0.0, 0.0, 0.0]\n",
    "\n",
    "seg = Segmentors.algoFromParams(params)\n",
    "mask = seg.evaluate(img)\n",
    "plt.imshow(mask)\n",
    "\n",
    "\n",
    "fitness = Segmentors.FitnessFunction(mask,gmask)\n",
    "print(f\"fitness[0]\")\n",
    "\n"
   ]
  },
  {
   "cell_type": "markdown",
   "metadata": {},
   "source": [
    "\n",
    "This is occurring because both regions are mapping to the background. Although not a good solution it should not be discounted as it may lead to a better solution.\n",
    "\n",
    "We need to find an update to the fitness function that takes this case into consideration."
   ]
  },
  {
   "cell_type": "code",
   "execution_count": null,
   "metadata": {},
   "outputs": [],
   "source": []
  }
 ],
 "metadata": {
  "kernelspec": {
   "display_name": "Python 3",
   "language": "python",
   "name": "python3"
  },
  "language_info": {
   "codemirror_mode": {
    "name": "ipython",
    "version": 3
   },
   "file_extension": ".py",
   "mimetype": "text/x-python",
   "name": "python",
   "nbconvert_exporter": "python",
   "pygments_lexer": "ipython3",
   "version": "3.7.5"
  }
 },
 "nbformat": 4,
 "nbformat_minor": 2
}
