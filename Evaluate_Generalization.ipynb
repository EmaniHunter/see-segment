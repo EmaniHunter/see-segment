{
 "cells": [
  {
   "cell_type": "markdown",
   "metadata": {},
   "source": [
    "# Long Run Analysis"
   ]
  },
  {
   "cell_type": "code",
   "execution_count": null,
   "metadata": {},
   "outputs": [],
   "source": [
    "from see import DataDownload as dd\n",
    "imagefiles = []\n",
    "maskfiles = []\n",
    "outputfiles = []\n",
    "\n",
    "print(\"Adding COSKEL Data\")\n",
    "files = dd.getCOSKELFolderlists(folder='./Image_Data/', outputfolder='./Image_Data/Output/')\n",
    "imagefiles += files[0]\n",
    "maskfiles += files[1]\n",
    "outputfiles += files[2]\n",
    "\n",
    "print(\"Adding Sky Data\")\n",
    "files = dd.getSkyFolderLists(folder='./Image_Data/', outputfolder='./Image_Data/Output/')\n",
    "imagefiles += files[0]\n",
    "maskfiles += files[1]\n",
    "outputfiles += files[2]\n",
    "\n",
    "folder = 'Image_Data/CO-SKEL-SKY/'\n",
    "outputfile = \"allre_Sky.npy\"\n",
    "#Sky Data\n",
    "datarange = list(range(408))[-60:]"
   ]
  },
  {
   "cell_type": "code",
   "execution_count": null,
   "metadata": {},
   "outputs": [],
   "source": [
    "from see import DataDownload as dd\n",
    "\n",
    "#KOMATSUNA_output \n",
    "prefix = 20\n",
    "folder = 'Image_Data/KOMATSUNA_output/'\n",
    "outputfile = \"allre_KOMATSUNA.npy\"\n",
    "\n",
    "imagefiles = []\n",
    "maskfiles = []\n",
    "outputfiles = []\n",
    "\n",
    "print(\"Adding KOMATSUNA Data\")\n",
    "files = dd.getKomatsunaFolderLists(folder='./Image_Data/', outputfolder='./Image_Data/KOMATSUNA_output/')\n",
    "imagefiles += files[0]\n",
    "maskfiles += files[1]\n",
    "outputfiles += files[2]\n",
    "\n",
    "folder = 'Image_Data/KOMATSUNA_output/'\n",
    "datarange = list(range(len(imagefiles)))"
   ]
  },
  {
   "cell_type": "code",
   "execution_count": null,
   "metadata": {},
   "outputs": [],
   "source": [
    "%matplotlib inline\n",
    "import matplotlib.pylab as plt\n",
    "import numpy as np\n",
    "from pathlib import Path\n",
    "\n",
    "def evaluate_run(prefix = 0, folder='./'):\n",
    "    p = Path(folder)\n",
    "    filefilter = f'{prefix}_*.output'\n",
    "    print(filefilter)\n",
    "    filenames = list(p.glob(filefilter))\n",
    "\n",
    "    assert(len(filenames) > 0)\n",
    "\n",
    "    fitness = []\n",
    "    pop = []\n",
    "    dist = []\n",
    "    for filename in filenames:\n",
    "        print(filename)\n",
    "        fid  = open(filename, 'r')\n",
    "        lines = fid.readlines() \n",
    "        for line in lines:\n",
    "            if 'BEST' in line:\n",
    "                fitness.append(eval(line.split('-')[1]))\n",
    "                pop.append(eval(line.split(' - ')[2]))\n",
    "            if 'HIST' in line:\n",
    "                dist.append(eval(line.split('-')[1]))\n",
    "\n",
    "    fitness = np.array(fitness)\n",
    "    fitness = list(fitness[:,0])\n",
    "    fitness.sort(reverse=True)\n",
    "    plt.plot(fitness)\n",
    "    plt.xlabel('Generation')\n",
    "    plt.ylabel('Fitness')\n",
    "    plt.savefig(f'{filename}.png')\n",
    "    return fitness, pop, dist"
   ]
  },
  {
   "cell_type": "code",
   "execution_count": null,
   "metadata": {},
   "outputs": [],
   "source": [
    "%matplotlib inline\n",
    "import matplotlib.pylab as plt\n",
    "import numpy as np\n",
    "from pathlib import Path\n",
    "\n",
    "import imageio\n",
    "from see import Segmentors\n",
    "from see import JupyterGUI\n",
    "\n",
    "\n",
    "allresults = []\n",
    "\n",
    "for index in datarange:\n",
    "    #print(f\"{index} - {imagefiles[index]}\")\n",
    "    fitness_list, pop, dist = evaluate_run(index, folder=folder)\n",
    "    params = pop[-1]\n",
    "    seg = Segmentors.algoFromParams(params)\n",
    "    results = []\n",
    "    for test in datarange:\n",
    "        img = imageio.imread(imagefiles[test])\n",
    "        gmask = imageio.imread(maskfiles[test])\n",
    "        mask = seg.evaluate(img)\n",
    "        fitness,_,_ = Segmentors.FitnessFunction(mask,gmask)\n",
    "        results.append(fitness)\n",
    "    allresults.append(results)\n"
   ]
  },
  {
   "cell_type": "code",
   "execution_count": null,
   "metadata": {},
   "outputs": [],
   "source": [
    "allre = np.array(allresults)\n",
    "plt.imshow(allre)\n",
    "plt.colorbar()"
   ]
  },
  {
   "cell_type": "code",
   "execution_count": null,
   "metadata": {},
   "outputs": [],
   "source": [
    "np.save(outputfile, allre) # save\n",
    "allre = np.load(outputfile) # loa"
   ]
  },
  {
   "cell_type": "raw",
   "metadata": {},
   "source": [
    "30*400\n"
   ]
  },
  {
   "cell_type": "code",
   "execution_count": null,
   "metadata": {},
   "outputs": [],
   "source": [
    "np.sum(allre < 0.1)"
   ]
  },
  {
   "cell_type": "code",
   "execution_count": null,
   "metadata": {
    "scrolled": true
   },
   "outputs": [],
   "source": [
    "total = np.sum(allre < 0.1 ,axis=1)\n",
    "total"
   ]
  },
  {
   "cell_type": "code",
   "execution_count": null,
   "metadata": {},
   "outputs": [],
   "source": [
    "index_min = np.argmax(total)\n",
    "index_min"
   ]
  },
  {
   "cell_type": "code",
   "execution_count": null,
   "metadata": {},
   "outputs": [],
   "source": [
    "best = np.max(total)\n",
    "best"
   ]
  },
  {
   "cell_type": "code",
   "execution_count": null,
   "metadata": {},
   "outputs": [],
   "source": [
    "plt.plot(np.sum(allre, axis=1))"
   ]
  },
  {
   "cell_type": "code",
   "execution_count": null,
   "metadata": {},
   "outputs": [],
   "source": []
  },
  {
   "cell_type": "code",
   "execution_count": null,
   "metadata": {},
   "outputs": [],
   "source": []
  }
 ],
 "metadata": {
  "kernelspec": {
   "display_name": "Python 3",
   "language": "python",
   "name": "python3"
  },
  "language_info": {
   "codemirror_mode": {
    "name": "ipython",
    "version": 3
   },
   "file_extension": ".py",
   "mimetype": "text/x-python",
   "name": "python",
   "nbconvert_exporter": "python",
   "pygments_lexer": "ipython3",
   "version": "3.8.1"
  }
 },
 "nbformat": 4,
 "nbformat_minor": 4
}
