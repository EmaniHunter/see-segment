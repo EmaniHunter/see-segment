{
 "cells": [
  {
   "cell_type": "markdown",
   "metadata": {},
   "source": [
    "# Long Run Analysis"
   ]
  },
  {
   "cell_type": "code",
   "execution_count": null,
   "metadata": {},
   "outputs": [],
   "source": [
    "from see import DataDownload as dd\n",
    "\n",
    "\n",
    "# CO-SKEL-SKY \n",
    "# 3, 60 is a good example of a locla minima from bullseye\n",
    "# 12, 50, 100 exaample of better than Ground Truth.\n",
    "# 15 cat's Eyes\n",
    "# 36, 300 Example of not a great solution but below 0.1\n",
    "# 200 Examples of good solutions but not perfect. \n",
    "# 400 Good solution\n",
    "prefix = 400\n",
    "folder = 'Image_Data/CO-SKEL-SKY/'\n",
    "\n",
    "imagefiles = []\n",
    "maskfiles = []\n",
    "outputfiles = []\n",
    "\n",
    "print(\"Adding COSKEL Data\")\n",
    "files = dd.getCOSKELFolderlists(folder='./Image_Data/', outputfolder='./Image_Data/Output/')\n",
    "imagefiles += files[0]\n",
    "maskfiles += files[1]\n",
    "outputfiles += files[2]\n",
    "\n",
    "print(\"Adding Sky Data\")\n",
    "files = dd.getSkyFolderLists(folder='./Image_Data/', outputfolder='./Image_Data/Output/')\n",
    "imagefiles += files[0]\n",
    "maskfiles += files[1]\n",
    "outputfiles += files[2]"
   ]
  },
  {
   "cell_type": "code",
   "execution_count": 6,
   "metadata": {},
   "outputs": [
    {
     "name": "stdout",
     "output_type": "stream",
     "text": [
      "Adding KOMATSUNA Data\n"
     ]
    }
   ],
   "source": [
    "from see import DataDownload as dd\n",
    "\n",
    "\n",
    "#KOMATSUNA_output \n",
    "prefix = 20\n",
    "folder = 'Image_Data/KOMATSUNA_output/'\n",
    "\n",
    "imagefiles = []\n",
    "maskfiles = []\n",
    "outputfiles = []\n",
    "\n",
    "print(\"Adding KOMATSUNA Data\")\n",
    "files = dd.getKomatsunaFolderLists(folder='./Image_Data/', outputfolder='./Image_Data/KOMATSUNA_output/')\n",
    "imagefiles += files[0]\n",
    "maskfiles += files[1]\n",
    "outputfiles += files[2]\n"
   ]
  },
  {
   "cell_type": "code",
   "execution_count": 7,
   "metadata": {},
   "outputs": [
    {
     "data": {
      "text/plain": [
       "[]"
      ]
     },
     "execution_count": 7,
     "metadata": {},
     "output_type": "execute_result"
    }
   ],
   "source": [
    "imagefiles"
   ]
  },
  {
   "cell_type": "code",
   "execution_count": 2,
   "metadata": {},
   "outputs": [
    {
     "name": "stdout",
     "output_type": "stream",
     "text": [
      "20_*.output\n",
      "Image_Data/KOMATSUNA_output/20_64011545_slurm.output\n",
      "Image_Data/KOMATSUNA_output/20_64019612_slurm.output\n",
      "Image_Data/KOMATSUNA_output/20_64012274_slurm.output\n"
     ]
    },
    {
     "data": {
      "image/png": "[encoded data removed]",
      "text/plain": [
       "<Figure size 432x288 with 1 Axes>"
      ]
     },
     "metadata": {
      "needs_background": "light"
     },
     "output_type": "display_data"
    }
   ],
   "source": [
    "%matplotlib inline\n",
    "import matplotlib.pylab as plt\n",
    "import numpy as np\n",
    "from pathlib import Path\n",
    "\n",
    "def evaluate_run(prefix = 0, folder='./'):\n",
    "    p = Path(folder)\n",
    "    filefilter = f'{prefix}_*.output'\n",
    "    print(filefilter)\n",
    "    filenames = list(p.glob(filefilter))\n",
    "\n",
    "    assert(len(filenames) > 0)\n",
    "\n",
    "    fitness = []\n",
    "    pop = []\n",
    "    dist = []\n",
    "    for filename in filenames:\n",
    "        print(filename)\n",
    "        fid  = open(filename, 'r')\n",
    "        lines = fid.readlines() \n",
    "        for line in lines:\n",
    "            if 'BEST' in line:\n",
    "                fitness.append(eval(line.split('-')[1]))\n",
    "                pop.append(eval(line.split(' - ')[2]))\n",
    "            if 'HIST' in line:\n",
    "                dist.append(eval(line.split('-')[1]))\n",
    "\n",
    "    fitness = np.array(fitness)\n",
    "    fitness = list(fitness[:,0])\n",
    "    fitness.sort(reverse=True)\n",
    "    plt.plot(fitness)\n",
    "    plt.xlabel('Generation')\n",
    "    plt.ylabel('Fitness')\n",
    "    plt.savefig(f'{filename}.png')\n",
    "    return fitness, pop, dist\n",
    "\n",
    "fitness_list, pop, dist = evaluate_run(prefix, folder=folder)"
   ]
  },
  {
   "cell_type": "code",
   "execution_count": 3,
   "metadata": {},
   "outputs": [
    {
     "name": "stdout",
     "output_type": "stream",
     "text": [
      "0\n",
      "0\n",
      "0\n",
      "0\n",
      "0\n",
      "0\n",
      "69\n",
      "69\n",
      "69\n",
      "69\n"
     ]
    }
   ],
   "source": [
    "for threshold in np.arange(1,0,-0.1):\n",
    "    print(np.sum(np.array(fitness_list) > threshold))"
   ]
  },
  {
   "cell_type": "code",
   "execution_count": 4,
   "metadata": {},
   "outputs": [
    {
     "ename": "IndexError",
     "evalue": "list index out of range",
     "output_type": "error",
     "traceback": [
      "\u001b[0;31m---------------------------------------------------------------------------\u001b[0m",
      "\u001b[0;31mIndexError\u001b[0m                                Traceback (most recent call last)",
      "\u001b[0;32m<ipython-input-4-a08f1ebfba96>\u001b[0m in \u001b[0;36m<module>\u001b[0;34m\u001b[0m\n\u001b[1;32m      4\u001b[0m \u001b[0;34m\u001b[0m\u001b[0m\n\u001b[1;32m      5\u001b[0m \u001b[0;34m\u001b[0m\u001b[0m\n\u001b[0;32m----> 6\u001b[0;31m \u001b[0mprint\u001b[0m\u001b[0;34m(\u001b[0m\u001b[0mimagefiles\u001b[0m\u001b[0;34m[\u001b[0m\u001b[0mprefix\u001b[0m\u001b[0;34m]\u001b[0m\u001b[0;34m)\u001b[0m\u001b[0;34m\u001b[0m\u001b[0;34m\u001b[0m\u001b[0m\n\u001b[0m\u001b[1;32m      7\u001b[0m \u001b[0mimg\u001b[0m \u001b[0;34m=\u001b[0m \u001b[0mimageio\u001b[0m\u001b[0;34m.\u001b[0m\u001b[0mimread\u001b[0m\u001b[0;34m(\u001b[0m\u001b[0mimagefiles\u001b[0m\u001b[0;34m[\u001b[0m\u001b[0mprefix\u001b[0m\u001b[0;34m]\u001b[0m\u001b[0;34m)\u001b[0m\u001b[0;34m\u001b[0m\u001b[0;34m\u001b[0m\u001b[0m\n\u001b[1;32m      8\u001b[0m \u001b[0mgmask\u001b[0m \u001b[0;34m=\u001b[0m \u001b[0mimageio\u001b[0m\u001b[0;34m.\u001b[0m\u001b[0mimread\u001b[0m\u001b[0;34m(\u001b[0m\u001b[0mmaskfiles\u001b[0m\u001b[0;34m[\u001b[0m\u001b[0mprefix\u001b[0m\u001b[0;34m]\u001b[0m\u001b[0;34m)\u001b[0m\u001b[0;34m\u001b[0m\u001b[0;34m\u001b[0m\u001b[0m\n",
      "\u001b[0;31mIndexError\u001b[0m: list index out of range"
     ]
    }
   ],
   "source": [
    "import imageio\n",
    "from see import Segmentors\n",
    "from see import JupyterGUI\n",
    "\n",
    "\n",
    "print(imagefiles[prefix])\n",
    "img = imageio.imread(imagefiles[prefix])\n",
    "gmask = imageio.imread(maskfiles[prefix])\n",
    "params = pop[-1]\n",
    "print(params)\n",
    "seg = Segmentors.algoFromParams(params)\n",
    "mask = seg.evaluate(img)\n",
    "fitness,_,_ = Segmentors.FitnessFunction(mask,gmask)\n",
    "JupyterGUI.showthree(img, gmask, mask)\n",
    "plt.title(f\"fitness={fitness}\")\n"
   ]
  },
  {
   "cell_type": "code",
   "execution_count": null,
   "metadata": {},
   "outputs": [],
   "source": [
    "test = []\n",
    "keys = None\n",
    "for d in dist:\n",
    "    test.append(list(d.values()));\n",
    "    keys = list(d.keys())\n",
    "    \n",
    "array = np.array(test)"
   ]
  },
  {
   "cell_type": "code",
   "execution_count": null,
   "metadata": {},
   "outputs": [],
   "source": [
    "if keys:\n",
    "    plt.figure(figsize=(20,10))\n",
    "    plt.subplot(211)\n",
    "    plt.plot(fitness_list);\n",
    "    plt.subplot(212)\n",
    "    plt.plot(array);\n",
    "    plt.legend(keys)"
   ]
  },
  {
   "cell_type": "code",
   "execution_count": null,
   "metadata": {},
   "outputs": [],
   "source": [
    "plt.figure(figsize=(20,10))\n",
    "plt.subplot(211)\n",
    "plt.plot(fitness_list);\n",
    "plt.subplot(212)\n",
    "plt.plot(array);\n",
    "plt.legend(keys)"
   ]
  },
  {
   "cell_type": "code",
   "execution_count": null,
   "metadata": {},
   "outputs": [],
   "source": [
    "import copy\n",
    "\n",
    "plt.figure(figsize=(20,10))\n",
    "plt.subplot(211)\n",
    "plt.plot(fitness_list);\n",
    "plt.subplot(212)\n",
    "ind = list(range(array.shape[0]))\n",
    "shrinkray = array\n",
    "index = 0\n",
    "winners = []\n",
    "for k in keys:\n",
    "    totals = np.sum(shrinkray.T,axis=0).tolist()\n",
    "    plt.bar(ind, totals, label=k);\n",
    "    shrinkray = shrinkray[:,1:]\n",
    "\n",
    "plt.legend()\n",
    "\n",
    "winners = list(np.array(pop)[:,0])\n",
    "plt.xticks(ind, winners);\n",
    "    "
   ]
  },
  {
   "cell_type": "code",
   "execution_count": null,
   "metadata": {},
   "outputs": [],
   "source": []
  },
  {
   "cell_type": "code",
   "execution_count": null,
   "metadata": {},
   "outputs": [],
   "source": []
  }
 ],
 "metadata": {
  "kernelspec": {
   "display_name": "Python 3",
   "language": "python",
   "name": "python3"
  },
  "language_info": {
   "codemirror_mode": {
    "name": "ipython",
    "version": 3
   },
   "file_extension": ".py",
   "mimetype": "text/x-python",
   "name": "python",
   "nbconvert_exporter": "python",
   "pygments_lexer": "ipython3",
   "version": "3.7.5"
  }
 },
 "nbformat": 4,
 "nbformat_minor": 2
}
