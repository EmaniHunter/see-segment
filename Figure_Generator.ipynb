{
 "cells": [
  {
   "cell_type": "markdown",
   "metadata": {},
   "source": [
    "# Figures"
   ]
  },
  {
   "cell_type": "code",
   "execution_count": null,
   "metadata": {},
   "outputs": [],
   "source": [
    "!mkdir -p ./docs/Images\n",
    "directory='./docs/Images/'"
   ]
  },
  {
   "cell_type": "code",
   "execution_count": null,
   "metadata": {},
   "outputs": [],
   "source": [
    "%matplotlib inline\n",
    "import matplotlib.pylab as plt\n",
    "import numpy as np\n",
    "\n",
    "from see import Segmentors\n",
    "from see import Segment_Similarity_Measure as SSM\n",
    "\n",
    "import imageio"
   ]
  },
  {
   "cell_type": "markdown",
   "metadata": {},
   "source": [
    "----\n",
    "\n",
    "# JOSS Figures\n",
    "\n"
   ]
  },
  {
   "cell_type": "code",
   "execution_count": null,
   "metadata": {},
   "outputs": [],
   "source": [
    "img = imageio.imread('Image_data/Examples/Chameleon.jpg')\n",
    "gmask = imageio.imread('Image_data/Examples/Chameleon_GT.png')\n",
    "\n",
    "\n",
    "params = ['CT', 2026, 0.079, 2171, 0.41, 2908, 4149, 10, 0.21, 8170, 6610, 3, 3, 100, 0.24, (1, 1), 2.9, 'small disk', 'circle', 7, 3566, 12, 0.0, 0.0, 0.0]\n",
    "seg = Segmentors.algoFromParams(params)\n",
    "nmask = seg.evaluate(img)\n",
    "print(SSM.FitnessFunction(nmask, gmask))\n",
    "print(seg)"
   ]
  },
  {
   "cell_type": "code",
   "execution_count": null,
   "metadata": {},
   "outputs": [],
   "source": [
    "# import imageio\n",
    "\n",
    "# imageio.imwrite( 'Image_data/Examples/Chameleon_GT.png', gmask)"
   ]
  },
  {
   "cell_type": "code",
   "execution_count": null,
   "metadata": {},
   "outputs": [],
   "source": [
    "plt.figure(figsize= (20, 15))\n",
    "plt.subplot(131)\n",
    "plt.imshow(img)\n",
    "plt.title(\"Original Image\")\n",
    "plt.axis(\"off\")\n",
    "\n",
    "plt.subplot(132)\n",
    "plt.imshow(gmask)\n",
    "plt.title(\"Multiregion Ground Truth\")\n",
    "plt.axis(\"off\")\n",
    "\n",
    "plt.subplot(133)\n",
    "plt.imshow(nmask != 0)\n",
    "plt.title(\"Miltiregion Segmentation\")\n",
    "plt.axis(\"off\")\n",
    "plt.savefig(f'{directory}/Chameleon.png')\n"
   ]
  },
  {
   "cell_type": "markdown",
   "metadata": {},
   "source": [
    "---\n",
    "\n",
    "## BMCV Figures"
   ]
  },
  {
   "cell_type": "markdown",
   "metadata": {},
   "source": [
    "First import the following packages:"
   ]
  },
  {
   "cell_type": "code",
   "execution_count": null,
   "metadata": {},
   "outputs": [],
   "source": [
    "%matplotlib inline\n",
    "import matplotlib.pylab as plt\n",
    "\n",
    "import imageio"
   ]
  },
  {
   "cell_type": "markdown",
   "metadata": {},
   "source": [
    "Next, read in the image to be segmented, and the ground truth segmentation mask of the image:"
   ]
  },
  {
   "cell_type": "code",
   "execution_count": null,
   "metadata": {},
   "outputs": [],
   "source": [
    "from see import Segmentors\n",
    "\n",
    "img = imageio.imread('Image_data/KOMATSUNA/rgbd_plant/rgb_04_009_05.png')\n",
    "gmask = imageio.imread('Image_data/KOMATSUNA/rgbd_label/label_04_009_05.png')\n",
    "gmask = gmask[:,:,0]\n",
    "params = ['FB', 428, 0.312, 488, 0.02, 8455, 1776, 10, 0.74, 419, 5905, 4, 5, 10, 0.92, (1, 2), 9.6, 'checkerboard', 'checkerboard', 6, 2762, 36, 0.0, 0.0, 0.0]\n",
    "seg = Segmentors.algoFromParams(params)\n",
    "mask = seg.evaluate(img)"
   ]
  },
  {
   "cell_type": "markdown",
   "metadata": {},
   "source": [
    "----\n",
    "\n",
    "# Figure 1"
   ]
  },
  {
   "cell_type": "code",
   "execution_count": null,
   "metadata": {},
   "outputs": [],
   "source": [
    "from see import Segmentors\n",
    "\n",
    "img = imageio.imread('Image_data/KOMATSUNA/rgbd_plant/rgb_04_009_05.png')\n",
    "nmask = imageio.imread('Image_data/KOMATSUNA/rgbd_label/label_04_009_05.png')\n",
    "gmask = nmask[:,:,0]+nmask[:,:,1]*10+nmask[:,:,2]*100\n",
    "\n",
    "params = ['SC', 4571, 0.801, 2574, 0.02, 8482, 33, 10, 0.39, 707, 8010, 4, 2, 10, 0.48, (2, 1), 7.5, 'small disk', 'checkerboard', 8, 5373, 33, 0.0, 0.0, 0.0]\n",
    "seg = Segmentors.algoFromParams(params)\n",
    "mask = seg.evaluate(img)\n",
    "\n",
    "plt.figure(figsize= (10, 5))\n",
    "plt.subplot(131)\n",
    "plt.imshow(img)\n",
    "plt.title(\"Original Image\")\n",
    "plt.axis(\"off\")\n",
    "\n",
    "plt.subplot(132)\n",
    "plt.imshow(nmask)\n",
    "plt.title(\"Multiregion Ground Truth\")\n",
    "plt.axis(\"off\")\n",
    "\n",
    "plt.subplot(133)\n",
    "plt.imshow(mask)\n",
    "plt.title(\"Miltiregion Segmentation\")\n",
    "plt.axis(\"off\")\n",
    "plt.savefig(f'{directory}MultiRegion.png')"
   ]
  },
  {
   "cell_type": "markdown",
   "metadata": {},
   "source": [
    "----\n",
    "\n",
    "# Figure 2"
   ]
  },
  {
   "cell_type": "code",
   "execution_count": null,
   "metadata": {},
   "outputs": [],
   "source": [
    "img = imageio.imread('./Image_data/sky/data/0020.jpg')\n",
    "gmask = imageio.imread('./Image_data/sky/groundtruth/0020_gt.pgm')\n",
    "\n",
    "plt.figure(figsize= (15, 5))\n",
    "plt.subplot(131)\n",
    "plt.imshow(img)\n",
    "plt.title(\"Original Image\")\n",
    "plt.axis(\"off\")\n",
    "\n",
    "plt.subplot(132)\n",
    "plt.imshow(gmask)\n",
    "plt.title(\"Segmentation 1\")\n",
    "plt.axis(\"off\")\n",
    "\n",
    "plt.subplot(133)\n",
    "plt.imshow(gmask==0)\n",
    "plt.title(\"Segmentation 2\")\n",
    "plt.axis(\"off\")\n",
    "plt.savefig(f'{directory}different_labels.png')"
   ]
  },
  {
   "cell_type": "markdown",
   "metadata": {},
   "source": [
    "----\n",
    "\n",
    "# Figure 3"
   ]
  },
  {
   "cell_type": "code",
   "execution_count": null,
   "metadata": {},
   "outputs": [],
   "source": [
    "import numpy as np\n",
    "img = np.zeros([50,50])\n",
    "img[10:20,10:20] = 1\n",
    "\n",
    "gmask = img\n",
    "background = np.zeros(gmask.shape)\n",
    "foreground = np.ones(gmask.shape)\n",
    "foreground[0,0]=0\n",
    "multiregion = np.zeros(gmask.shape)\n",
    "\n",
    "\n",
    "index = 0\n",
    "for row in range(gmask.shape[0]):\n",
    "    for col in range(gmask.shape[1]):\n",
    "        multiregion[row,col] = index\n",
    "        index +=1\n",
    "\n",
    "plt.figure(figsize= (15, 5))\n",
    "plt.subplot(141)\n",
    "plt.imshow(img)\n",
    "plt.title(\"Original Image\")\n",
    "plt.axis(\"off\")\n",
    "\n",
    "plt.subplot(142)\n",
    "plt.imshow(background)\n",
    "plt.title(\"Miltiregion Segmentation\")\n",
    "plt.axis(\"off\")\n",
    "\n",
    "\n",
    "plt.subplot(143)\n",
    "plt.imshow(multiregion)\n",
    "plt.title(\"Miltiregion Segmentation\")\n",
    "plt.axis(\"off\")\n",
    "\n",
    "plt.subplot(144)\n",
    "plt.imshow(foreground)\n",
    "plt.title(\"Miltiregion Segmentation\")\n",
    "plt.axis(\"off\")\n",
    "plt.savefig(f'{directory}Extreme_Cases.png')"
   ]
  },
  {
   "cell_type": "markdown",
   "metadata": {},
   "source": [
    "----\n",
    "\n",
    "# Tables\n",
    "\n",
    "\n",
    "## Hamming Distance"
   ]
  },
  {
   "cell_type": "code",
   "execution_count": null,
   "metadata": {},
   "outputs": [],
   "source": [
    "def Hamming(inferred, ground_truth):\n",
    "    \"\"\"Compute the fitness for an individual. Takes in two images and compares\n",
    "     them according to the equation (p + 2)^log(|m - n| + 2), where p is the pixel\n",
    "      error, m is the number of segments in the inferred mask, and n is the number\n",
    "       of segments in the ground truth mask.\n",
    "\n",
    "    Keyword arguments:\n",
    "    inferred -- Resulting segmentation mask from individual.\n",
    "    ground_truth -- Ground truth segmentation mask for training image.\n",
    "\n",
    "    Outputs:\n",
    "    error -- fitness value as float\n",
    "    best -- true mapping as dictionary\n",
    "\n",
    "    \"\"\"\n",
    "    # makes sure images are in grayscale\n",
    "    if len(inferred.shape) > 2:\n",
    "        inferred = color.rgb2gray(inferred)\n",
    "    if len(ground_truth.shape) > 2:  # comment out\n",
    "        ground_truth = color.rgb2gray(ground_truth)  # comment out\n",
    "\n",
    "    \n",
    "    M = ground_truth.shape[0]\n",
    "    N = ground_truth.shape[1]\n",
    "    \n",
    "    hamming = 0;\n",
    "    for r in range(M):\n",
    "        for c in range(N):\n",
    "            hamming +=  ground_truth[r,c] != inferred[r,c]\n",
    "            \n",
    "    return [hamming/(M*N), ]"
   ]
  },
  {
   "cell_type": "code",
   "execution_count": null,
   "metadata": {},
   "outputs": [],
   "source": [
    "print('Hamming: Fitness Value: ', Hamming(gmask, gmask)[0])\n",
    "print('Hamming: Fitness Value: ', Hamming(foreground, gmask)[0])\n",
    "print('Hamming: Fitness Value: ', Hamming(multiregion, gmask)[0])\n",
    "print('Hamming: Fitness Value: ', Hamming(background, gmask)[0])\n",
    "print('')\n",
    "print('Hamming: Fitness Value: ', Hamming(gmask, foreground)[0])\n",
    "print('Hamming: Fitness Value: ', Hamming(gmask, multiregion)[0])\n",
    "print('Hamming: Fitness Value: ', Hamming(gmask, background)[0])"
   ]
  },
  {
   "cell_type": "markdown",
   "metadata": {},
   "source": [
    "----\n",
    "\n",
    "## Gamma"
   ]
  },
  {
   "cell_type": "code",
   "execution_count": null,
   "metadata": {},
   "outputs": [],
   "source": [
    "def Gamma(inferred, ground_truth):\n",
    "    \"\"\"Compute the fitness for an individual. Takes in two images and compares\n",
    "     them according to the equation (p + 2)^log(|m - n| + 2), where p is the pixel\n",
    "      error, m is the number of segments in the inferred mask, and n is the number\n",
    "       of segments in the ground truth mask.\n",
    "\n",
    "    Keyword arguments:\n",
    "    inferred -- Resulting segmentation mask from individual.\n",
    "    ground_truth -- Ground truth segmentation mask for training image.\n",
    "\n",
    "    Outputs:\n",
    "    error -- fitness value as float\n",
    "    best -- true mapping as dictionary\n",
    "\n",
    "    \"\"\"\n",
    "    # makes sure images are in grayscale\n",
    "    if len(inferred.shape) > 2:\n",
    "        inferred = color.rgb2gray(inferred)\n",
    "    if len(ground_truth.shape) > 2:  # comment out\n",
    "        ground_truth = color.rgb2gray(ground_truth)  # comment out\n",
    "    \n",
    "    inferred = inferred > 0\n",
    "    ground_truth = ground_truth > 0\n",
    "    \n",
    "    M = ground_truth.shape[0]\n",
    "    N = ground_truth.shape[1]\n",
    "    \n",
    "    f = lambda u,v: u+v-(2*u*v)\n",
    "    hamming = 0;\n",
    "    for r in range(M):\n",
    "        for c in range(N):\n",
    "            hamming += ground_truth[r,c] != inferred[r,c]\n",
    "    \n",
    "    gamma = np.abs(1-(2*hamming/(M*N)))\n",
    "               \n",
    "    return [1- gamma, ]"
   ]
  },
  {
   "cell_type": "code",
   "execution_count": null,
   "metadata": {},
   "outputs": [],
   "source": [
    "print('Gamma: Fitness Value: ', Gamma(gmask, gmask)[0])\n",
    "print('Gamma: Fitness Value: ', Gamma(foreground, gmask)[0])\n",
    "print('Gamma: Fitness Value: ', Gamma(multiregion, gmask)[0])\n",
    "print('Gamma: Fitness Value: ', Gamma(background, gmask)[0])\n",
    "print('')\n",
    "print('Gamma: Fitness Value: ', Gamma(gmask, foreground)[0])\n",
    "print('Gamma: Fitness Value: ', Gamma(gmask, multiregion)[0])\n",
    "print('Gamma: Fitness Value: ', Gamma(gmask, background)[0])"
   ]
  },
  {
   "cell_type": "markdown",
   "metadata": {},
   "source": [
    "----\n",
    "\n",
    "## Region Count"
   ]
  },
  {
   "cell_type": "code",
   "execution_count": null,
   "metadata": {},
   "outputs": [],
   "source": [
    "import sys\n",
    "from skimage import color\n",
    "import numpy as np\n",
    "\n",
    "def countMatches(inferred, ground_truth):\n",
    "    \"\"\"Map the segments in the inferred segmentation mask to the ground truth segmentation\n",
    "     mask, and record the number of pixels in each of these mappings as well as the number\n",
    "      of segments in both masks.\n",
    "\n",
    "    Keyword arguments:\n",
    "    inferred -- Resulting segmentation mask from individual.\n",
    "    ground_truth -- Ground truth segmentation mask for training image.\n",
    "\n",
    "    Outputs:\n",
    "    setcounts -- Dictionary of dictionaries containing the number of pixels in\n",
    "        each segment mapping.\n",
    "    len(m) -- Number of segments in inferred segmentation mask.\n",
    "    len(n) -- Number of segments in ground truth segmentation mask.\n",
    "\n",
    "    \"\"\"\n",
    "    assert inferred.shape == ground_truth.shape\n",
    "    m = set()\n",
    "    n = set()\n",
    "    setcounts = dict()\n",
    "    for r in range(inferred.shape[0]):\n",
    "        for c in range(inferred.shape[1]):\n",
    "            i_key = inferred[r, c]\n",
    "            m.add(i_key)\n",
    "            g_key = ground_truth[r, c]\n",
    "            n.add(g_key)\n",
    "            if i_key in setcounts:\n",
    "                if g_key in setcounts[i_key]:\n",
    "                    setcounts[i_key][g_key] += 1\n",
    "                else:\n",
    "                    setcounts[i_key][g_key] = 1\n",
    "            else:\n",
    "                setcounts[i_key] = dict()\n",
    "                setcounts[i_key][g_key] = 1\n",
    "    return setcounts, len(m), len(n)\n",
    "\n",
    "def countsets(setcounts):\n",
    "    \"\"\"For each inferred set, find the ground truth set which it maps the most pixels\n",
    "     to. So we start from the inferred image, and map towards the ground truth image.\n",
    "      For each i_key, the g_key that it maps the most pixels to is considered True.\n",
    "       In order to see what ground truth sets have a corresponding set(s) in the inferred\n",
    "        image, we record these \"true\" g_keys. This number of true g_keys is the value for\n",
    "         L in our fitness function.\n",
    "\n",
    "    Keyword arguments:\n",
    "    setcounts -- Dictionary of dictionaries containing the number of pixels in\n",
    "        each segment mapping.\n",
    "\n",
    "    Outputs:\n",
    "    (total - p) -- Pixel error.\n",
    "    L -- Number of ground truth segments that have a mapping in the inferred mask\n",
    "    best -- True mapping as dictionary.\n",
    "\n",
    "    \"\"\"\n",
    "    p = 0\n",
    "    #L = len(setcounts)\n",
    "\n",
    "    total = 0\n",
    "    L_sets = set()\n",
    "\n",
    "    best = dict()\n",
    "\n",
    "    for i_key in setcounts:\n",
    "        my_mx = 0\n",
    "        mx_key = ''\n",
    "        for g_key in setcounts[i_key]:\n",
    "            total += setcounts[i_key][g_key] # add to total pixel count\n",
    "            if setcounts[i_key][g_key] > my_mx:\n",
    "                my_mx = setcounts[i_key][g_key]\n",
    "                # mx_key = i_key\n",
    "                mx_key = g_key # record mapping with greatest pixel count\n",
    "        p += my_mx\n",
    "        # L_sets.add(g_key)\n",
    "        L_sets.add(mx_key) # add the g_key we consider to be correct\n",
    "        # best[i_key] = g_key\n",
    "        best[i_key] = mx_key # record \"true\" mapping\n",
    "    L = len(L_sets)\n",
    "    return total-p, L, best\n",
    "\n",
    "\n",
    "def Region_Mapping(inferred, ground_truth):\n",
    "    \"\"\"Compute the fitness for an individual. Takes in two images and compares\n",
    "     them according to the equation (p + 2)^log(|m - n| + 2), where p is the pixel\n",
    "      error, m is the number of segments in the inferred mask, and n is the number\n",
    "       of segments in the ground truth mask.\n",
    "\n",
    "    Keyword arguments:\n",
    "    inferred -- Resulting segmentation mask from individual.\n",
    "    ground_truth -- Ground truth segmentation mask for training image.\n",
    "\n",
    "    Outputs:\n",
    "    error -- fitness value as float\n",
    "    best -- true mapping as dictionary\n",
    "\n",
    "    \"\"\"\n",
    "    # makes sure images are in grayscale\n",
    "    if len(inferred.shape) > 2:\n",
    "        inferred = color.rgb2gray(inferred)\n",
    "    if len(ground_truth.shape) > 2:  # comment out\n",
    "        ground_truth = color.rgb2gray(ground_truth)  # comment out\n",
    "\n",
    "    # Replace with function to output p an L\n",
    "    # p - number of pixels not correcly mapped\n",
    "    # L - Number of correctly mapped sets\n",
    "    setcounts, m, n = countMatches(inferred, ground_truth)\n",
    "\n",
    "    #print(setcounts)\n",
    "    p, L, _ = countsets(setcounts)\n",
    "    \n",
    "    M = ground_truth.shape[0]\n",
    "    N = ground_truth.shape[1]\n",
    "    \n",
    "    return [p/(M*N), ]"
   ]
  },
  {
   "cell_type": "code",
   "execution_count": null,
   "metadata": {},
   "outputs": [],
   "source": [
    "print('Region Mapping: Fitness Value: ', Region_Mapping(gmask, gmask)[0])\n",
    "print('Region Mapping: Fitness Value: ', Region_Mapping(foreground, gmask)[0])\n",
    "print('Region Mapping: Fitness Value: ', Region_Mapping(multiregion, gmask)[0])\n",
    "print('Region Mapping: Fitness Value: ', Region_Mapping(background, gmask)[0])\n",
    "print('')\n",
    "print('Region Mapping: Fitness Value: ', Region_Mapping(gmask, foreground)[0])\n",
    "print('Region Mapping: Fitness Value: ', Region_Mapping(gmask, multiregion)[0])\n",
    "print('Region Mapping: Fitness Value: ', Region_Mapping(gmask, background)[0])"
   ]
  },
  {
   "cell_type": "code",
   "execution_count": null,
   "metadata": {},
   "outputs": [],
   "source": [
    "def LAD(inferred, ground_truth):\n",
    "    # makes sure images are in grayscale\n",
    "    if len(inferred.shape) > 2:\n",
    "        inferred = color.rgb2gray(inferred)\n",
    "    if len(ground_truth.shape) > 2:  # comment out\n",
    "        ground_truth = color.rgb2gray(ground_truth)  # comment out\n",
    "    \n",
    "    tot_num_pixels = ground_truth.shape[0] * ground_truth.shape[1] \n",
    "        \n",
    "    M = ground_truth.shape[0]\n",
    "    N = ground_truth.shape[1]\n",
    "    \n",
    "    # Replace with function to output p an L\n",
    "    # p - number of pixels not correcly mapped\n",
    "    # L - Number of correctly mapped sets\n",
    "    setcounts, m, n = countMatches(inferred, ground_truth)\n",
    "\n",
    "    #print(setcounts)\n",
    "    p, L, _ = countsets(setcounts)\n",
    "    \n",
    "    error = (p+np.abs(n-m))/(N*M)\n",
    "            \n",
    "            \n",
    "    return [ error, n,m]"
   ]
  },
  {
   "cell_type": "code",
   "execution_count": null,
   "metadata": {},
   "outputs": [],
   "source": [
    "print('LAD: Fitness Value: ', LAD(gmask, gmask)[0])\n",
    "print('LAD: Fitness Value: ', LAD(foreground, gmask)[0])\n",
    "print('LAD: Fitness Value: ', LAD(multiregion, gmask)[0])\n",
    "print('LAD: Fitness Value: ', LAD(background, gmask)[0])\n",
    "print('')\n",
    "print('LAD: Fitness Value: ', LAD(gmask,foreground)[0])\n",
    "print('LAD: Fitness Value: ', LAD(gmask,multiregion)[0])\n",
    "print('LAD: Fitness Value: ', LAD(gmask, background)[0])"
   ]
  },
  {
   "cell_type": "code",
   "execution_count": null,
   "metadata": {},
   "outputs": [],
   "source": [
    "def MADLAD(inferred, ground_truth):\n",
    "    \"\"\"Compute the fitness for an individual. Takes in two images and compares\n",
    "     them according to the equation (p + 2)^log(|m - n| + 2), where p is the pixel\n",
    "      error, m is the number of segments in the inferred mask, and n is the number\n",
    "       of segments in the ground truth mask.\n",
    "\n",
    "    Keyword arguments:\n",
    "    inferred -- Resulting segmentation mask from individual.\n",
    "    ground_truth -- Ground truth segmentation mask for training image.\n",
    "\n",
    "    Outputs:\n",
    "    error -- fitness value as float\n",
    "    best -- true mapping as dictionary\n",
    "\n",
    "    \"\"\"\n",
    "    # makes sure images are in grayscale\n",
    "    if len(inferred.shape) > 2:\n",
    "        inferred = color.rgb2gray(inferred)\n",
    "    if len(ground_truth.shape) > 2:  # comment out\n",
    "        ground_truth = color.rgb2gray(ground_truth)  # comment out\n",
    "    \n",
    "    TP = ground_truth.shape[0] * ground_truth.shape[1] \n",
    "        \n",
    "    M = ground_truth.shape[0]\n",
    "    N = ground_truth.shape[1]\n",
    "    \n",
    "    # Replace with function to output p an L\n",
    "    # p - number of pixels not correcly mapped\n",
    "    # L - Number of correctly mapped sets\n",
    "    setcounts, m, n = countMatches(inferred, ground_truth)\n",
    "\n",
    "    #print(setcounts)\n",
    "    p, L, _ = countsets(setcounts)\n",
    "\n",
    "    print(f\"{p}, {n}, {m}, {TP}\")\n",
    "    error = (p/TP+np.abs(n-m)/(n+m))**(1-np.abs(n-m)/(n+m))\n",
    "    return [ error, n,m]"
   ]
  },
  {
   "cell_type": "code",
   "execution_count": null,
   "metadata": {},
   "outputs": [],
   "source": [
    "print('MADLAD: Fitness Value: ', MADLAD(gmask, gmask)[0])\n",
    "print('MADLAD: Fitness Value: ', MADLAD(foreground, gmask)[0])\n",
    "print('MADLAD: Fitness Value: ', MADLAD(multiregion, gmask)[0])\n",
    "print('MADLAD: Fitness Value: ', MADLAD(background, gmask)[0])\n",
    "print('')\n",
    "print('MADLAD: Fitness Value: ', MADLAD(gmask,foreground)[0])\n",
    "print('MADLAD: Fitness Value: ', MADLAD(gmask,multiregion)[0])\n",
    "print('MADLAD: Fitness Value: ', MADLAD(gmask, background)[0])"
   ]
  },
  {
   "cell_type": "markdown",
   "metadata": {},
   "source": [
    "----\n",
    "\n",
    "\n",
    "# Sky Figure "
   ]
  },
  {
   "cell_type": "code",
   "execution_count": null,
   "metadata": {},
   "outputs": [],
   "source": [
    "def showpop(population,gmask,findex=0,n_row=2, n_col=6):\n",
    "    plt.figure(figsize= (15, 10))\n",
    "    plt.figure(figsize=(1.8 * n_col, 2.4 * n_row))\n",
    "    plt.subplots_adjust(bottom=0, left=.01, right=.99, top=.90, hspace=.35)\n",
    "\n",
    "    \n",
    "    LAD_fitness = []\n",
    "    MADLAD_fitness = []\n",
    "    for i in range(len(population)):\n",
    "        seg = Segmentors.algoFromParams(population[i])\n",
    "        mask = seg.evaluate(img)\n",
    "        LAD_fitness.append(LAD(mask,gmask)[0])\n",
    "        MADLAD_fitness.append(MADLAD(mask,gmask)[0])\n",
    "        print(f\"{LAD_fitness[i]}, {MADLAD_fitness[i]}\")\n",
    "    \n",
    "    zipped = zip(MADLAD_fitness, LAD_fitness, population)\n",
    "    zipped = sorted(zipped, key = lambda x: -x[findex]) \n",
    "    MADLAD_fitness, LAD_fitness, population = zip(*zipped)\n",
    "    \n",
    "    index = 0\n",
    "    \n",
    "    for i in range(0,n_row * n_col):\n",
    "        plt.subplot(n_row, n_col, i + 1)\n",
    "        index = i\n",
    "        if index < len(population):\n",
    "            seg = Segmentors.algoFromParams(population[index])\n",
    "            mask = seg.evaluate(img)\n",
    "            plt.imshow(mask)\n",
    "            if findex == 1:\n",
    "                plt.title(f\"LAD={LAD_fitness[index]:.4}\")\n",
    "            else:\n",
    "                plt.title(f\"MADLAD={MADLAD_fitness[index]:.4}\")\n",
    "            plt.axis('off')\n",
    "            \n",
    "    plt.subplot(n_row, n_col,index+1)\n",
    "    plt.imshow(gmask)\n",
    "    if findex == 1:\n",
    "        plt.title(f\"LAD={LAD(gmask,gmask)[0]:.4}\")\n",
    "    else:\n",
    "        plt.title(f\"MADLAD={MADLAD(gmask,gmask)[0]:.4}\")    \n",
    " \n",
    "    plt.axis('off')"
   ]
  },
  {
   "cell_type": "code",
   "execution_count": null,
   "metadata": {},
   "outputs": [],
   "source": [
    "from see import Segmentors\n",
    "\n",
    "img = imageio.imread('./Image_data/sky/data/0020.jpg')\n",
    "gmask = imageio.imread('./Image_data/sky/groundtruth/0020_gt.pgm')\n",
    "\n",
    "pop = []\n",
    "params = ['FB', 428, 0.312, 488, 0.02, 8455, 1776, 10, 0.74, 419, 5905, 4, 5, 10, 0.92, (1, 2), 9.6, 'checkerboard', 'checkerboard', 6, 2762, 36, 0.0, 0.0, 0.0]\n",
    "pop.append(params)\n",
    "params = ['SC', 7638, 0.576, 4497, 0.07, 3573, 152, 10, 0.07, 7363, 9880, 4, 5, 100, 0.11, (1, 2), 6.0, 'small disk', 'circle', 7, 8784, -23, 0.0, 0.0, 0.0]\n",
    "pop.append(params)\n",
    "# params = ['WS', 6591, 0.66, 5036, 0.06, 4540, 2811, 10, 0.62, 8012, 5939, 4, 5, 10000, 0.0, (1, 2), 3.4, 'disk', 'checkerboard', 6, 8579, 33, 0.0, 0.0, 0.0]\n",
    "# pop.append(params)\n",
    "params = ['MCV', 5567, 0.109, 5031, 0.08, 6643, 1605, 10, 0.55, 9156, 8326, 4, 3, 0.1, 0.56, (1, 1), 9.5, 'checkerboard', 'checkerboard', 9, 6641, 41, 0.0, 0.0, 0.0]\n",
    "pop.append(params)\n",
    "#params = ['MCV', 2433, 0.923, 7693, 0.07, 1580, 8678, 10, 0.21, 3997, 7461, 4, 1, 0.01, 0.15, (1, 1), 6.4, 'small disk', 'checkerboard', 3, 3868, 5, 0.0, 0.0, 0.0]\n",
    "#pop.append(params)\n",
    "params = ['CT', 7447, 0.303, 7935, 0.07, 3309, 3300, 10, 0.39, 3598, 1069, 4, 1, 1000, 0.22, (1, 1), 3.1, 'disk', 'checkerboard', 1, 6843, 20, 0.0, 0.0, 0.0]\n",
    "pop.append(params)\n",
    "params = ['CV', 2240, 0.363, 5079, 0.07, 7596, 290, 10, 0.41, 8982, 9328, 4, 3, 0.0001, 0.0, (2, 1), 9.2, 'small disk', 'circle', 7, 3568, 12, 0.0, 0.0, 0.0]\n",
    "pop.append(params)\n",
    "\n",
    "showpop(pop,gmask, findex=0, n_row=1)\n",
    "plt.savefig(f'{directory}MADLAD_Sky.png')"
   ]
  },
  {
   "cell_type": "code",
   "execution_count": null,
   "metadata": {},
   "outputs": [],
   "source": [
    "showpop(pop,gmask, findex=1, n_row=1)\n",
    "plt.savefig(f'{directory}LAD_Sky.png')"
   ]
  },
  {
   "cell_type": "markdown",
   "metadata": {},
   "source": [
    "----\n",
    "\n",
    "\n",
    "# KOMATSUNA Figure "
   ]
  },
  {
   "cell_type": "code",
   "execution_count": null,
   "metadata": {},
   "outputs": [],
   "source": [
    "from see import Segmentors\n",
    "\n",
    "img = imageio.imread('Image_data/KOMATSUNA/rgbd_plant/rgb_04_009_05.png')\n",
    "gmask = imageio.imread('Image_data/KOMATSUNA/rgbd_label/label_04_009_05.png')\n",
    "\n",
    "pop = []\n",
    "\n",
    "params = ['FB', 4299, 0.433, 3312, 0.06, 7284, 2115, 10, 0.61, 2964, 7839, 4, 0, 0.01, 0.62, (2, 1), 3.8, 'small disk', 'circle', 1, 4788, 28, 0.0, 0.0, 0.0]\n",
    "pop.append(params)\n",
    "# params = ['FB', 7909, 0.23, 2235, 0.08, 9301, 7390, 10, 0.89, 1434, 7843, 4, 6, 1000, 0.1, (1, 2), 1.5, 'disk', 'checkerboard', 6, 6418, -42, 0.0, 0.0, 0.0]\n",
    "# pop.append(params)\n",
    "# params = ['FB', 330, 0.836, 8876, 0.01, 2952, 1009, 10, 0.23, 7580, 4445, 4, 6, 0.001, 0.8, (1, 1), 4.1, 'disk', 'checkerboard', 3, 671, 20, 0.0, 0.0, 0.0]\n",
    "# pop.append(params)\n",
    "# params = ['FB', 4388, 0.291, 359, 0.02, 3663, 832, 10, 0.97, 3546, 3040, 4, 0, 1000, 0.15, (1, 2), 8.5, 'disk', 'circle', 2, 1692, -12, 0.0, 0.0, 0.0]\n",
    "# pop.append(params)\n",
    "# params = ['FB', 9871, 0.857, 3647, 0.08, 2292, 3850, 10, 0.36, 1601, 678, 4, 5, 1000, 0.79, (2, 1), 6.6, 'checkerboard', 'checkerboard', 9, 4046, 33, 0.0, 0.0, 0.0]\n",
    "# pop.append(params)\n",
    "params = ['FB', 3461, 0.028, 153, 0.03, 4143, 66, 10, 0.74, 2195, 2677, 4, 6, 0.1, 0.09, (2, 1), 3.8, 'checkerboard', 'checkerboard', 7, 2019, 24, 0.0, 0.0, 0.0]\n",
    "pop.append(params)\n",
    "params = ['SC', 4571, 0.801, 2574, 0.02, 8482, 33, 10, 0.39, 707, 8010, 4, 2, 10, 0.48, (2, 1), 7.5, 'small disk', 'checkerboard', 8, 5373, 33, 0.0, 0.0, 0.0]\n",
    "pop.append(params)\n",
    "# params = ['MCV', 7810, 0.253, 8257, 0.02, 2483, 6925, 10, 0.31, 6977, 4300, 4, 2, 0.001, 0.38, (1, 2), 4.4, 'disk', 'checkerboard', 5, 4404, -41, 0.0, 0.0, 0.0]\n",
    "# pop.append(params)\n",
    "params = ['CT', 3194, 0.231, 7067, 0.0, 307, 1431, 10, 0.15, 6834, 5158, 4, 5, 10, 0.28, (2, 1), 4.6, 'disk', 'circle', 3, 1853, -40, 0.0, 0.0, 0.0]\n",
    "pop.append(params)\n",
    "params = ['MCV', 8103, 0.204, 4040, 0.02, 725, 4900, 10, 0.64, 3071, 4313, 4, 4, 0.0001, 0.29, (1, 1), 9.1, 'disk', 'circle', 3, 3887, -3, 0.0, 0.0, 0.0]\n",
    "pop.append(params)\n",
    "\n",
    "showpop(pop,gmask, findex=0, n_row=1)\n",
    "plt.savefig(f'{directory}MADLAD_Plant.png')"
   ]
  },
  {
   "cell_type": "code",
   "execution_count": null,
   "metadata": {},
   "outputs": [],
   "source": [
    "showpop(pop,gmask, findex=1,n_row=1)\n",
    "plt.savefig(f'{directory}LAD_Plant.png')"
   ]
  },
  {
   "cell_type": "code",
   "execution_count": null,
   "metadata": {},
   "outputs": [],
   "source": [
    "img = imageio.imread('Image_data/KOMATSUNA/rgbd_plant/rgb_04_009_05.png')\n",
    "nmask = imageio.imread('Image_data/KOMATSUNA/rgbd_label/label_04_009_05.png')\n",
    "gmask = nmask[:,:,0]+nmask[:,:,1]*10+nmask[:,:,2]*100\n",
    "\n",
    "# pop = []\n",
    "# params = ['SC', 4571, 0.801, 2574, 0.02, 8482, 33, 10, 0.39, 707, 8010, 5, 2, 10, 0.48, (2, 1), 7.5, 'small disk', 'checkerboard', 8, 5373, 33, 0.0, 0.0, 0.0]\n",
    "# pop.append(params)\n",
    "# params = ['FB', 1497, 0.557, 2961, 0.02, 293, 1308, 10, 0.22, 9023, 1263, 5, 3, 0.001, 0.81, (1, 1), 3.8, 'checkerboard', 'checkerboard', 1, 447, 45, 0.0, 0.0, 0.0]\n",
    "# pop.append(params)\n",
    "# params = ['FB', 524, 0.878, 495, 0.06, 2024, 1574, 10, 0.75, 3211, 2311, 5, 4, 1, 0.92, (1, 1), 7.3, 'checkerboard', 'circle', 9, 8809, 46, 0.0, 0.0, 0.0]\n",
    "# pop.append(params)\n",
    "# params = ['FB', 1312, 0.449, 1019, 0.09, 1936, 6398, 10, 0.0, 4383, 4543, 5, 7, 10, 0.14, (1, 2), 1.2, 'disk', 'checkerboard', 7, 6357, 9, 0.0, 0.0, 0.0]\n",
    "# pop.append(params)\n",
    "# params = ['CT', 3194, 0.231, 7067, 0.0, 307, 1431, 10, 0.15, 6834, 5158, 4, 5, 10, 0.28, (2, 1), 4.6, 'disk', 'circle', 3, 1853, -40, 0.0, 0.0, 0.0]\n",
    "# pop.append(params)\n"
   ]
  },
  {
   "cell_type": "code",
   "execution_count": null,
   "metadata": {},
   "outputs": [],
   "source": [
    "showpop(pop,gmask, findex=0,n_row=1)\n",
    "plt.savefig(f'{directory}MULTI_MADLAD_Plant.png')"
   ]
  },
  {
   "cell_type": "code",
   "execution_count": null,
   "metadata": {},
   "outputs": [],
   "source": [
    "showpop(pop,gmask, findex=1,n_row=1)\n",
    "plt.savefig(f'{directory}MULTI_LAD_Plant.png')"
   ]
  },
  {
   "cell_type": "code",
   "execution_count": null,
   "metadata": {},
   "outputs": [],
   "source": [
    "img = imageio.imread('Image_data/KOMATSUNA/rgbd_plant/rgb_04_009_05.png')\n",
    "nmask = imageio.imread('Image_data/KOMATSUNA/rgbd_label/label_04_009_05.png')\n",
    "gmask = nmask[:,:,0]+nmask[:,:,1]*10+nmask[:,:,2]*100\n",
    "\n",
    "pop = []\n",
    "params = ['SC', 4571, 0.801, 2574, 0.02, 8482, 33, 10, 0.39, 707, 8010, 4, 2, 10, 0.48, (2, 1), 7.5, 'small disk', 'checkerboard', 8, 5373, 33, 0.0, 0.0, 0.0]\n",
    "pop.append(params)\n",
    "params = ['FB', 1497, 0.557, 2961, 0.02, 293, 1308, 10, 0.22, 9023, 1263, 4, 3, 0.001, 0.81, (1, 1), 3.8, 'checkerboard', 'checkerboard', 1, 447, 45, 0.0, 0.0, 0.0]\n",
    "pop.append(params)\n",
    "params = ['FB', 524, 0.878, 495, 0.06, 2024, 1574, 10, 0.75, 3211, 2311, 4, 4, 1, 0.92, (1, 1), 7.3, 'checkerboard', 'circle', 9, 8809, 46, 0.0, 0.0, 0.0]\n",
    "pop.append(params)\n",
    "params = ['FB', 1312, 0.449, 1019, 0.09, 1936, 6398, 10, 0.0, 4383, 4543, 4, 7, 10, 0.14, (1, 2), 1.2, 'disk', 'checkerboard', 7, 6357, 9, 0.0, 0.0, 0.0]\n",
    "pop.append(params)\n",
    "params = ['CT', 3194, 0.231, 7067, 0.0, 307, 1431, 10, 0.15, 6834, 5158, 4, 5, 10, 0.28, (2, 1), 4.6, 'disk', 'circle', 3, 1853, -40, 0.0, 0.0, 0.0]\n",
    "pop.append(params)\n",
    "showpop(pop,gmask, findex=0,n_row=1)"
   ]
  },
  {
   "cell_type": "code",
   "execution_count": null,
   "metadata": {},
   "outputs": [],
   "source": [
    "showpop(pop,gmask, findex=1,n_row=1)"
   ]
  },
  {
   "cell_type": "code",
   "execution_count": null,
   "metadata": {},
   "outputs": [],
   "source": [
    "#REQUIRES Image Magick. Cool trick to crop images.\n",
    "\n",
    "!mogrify -trim ./docs/images/*.png"
   ]
  },
  {
   "cell_type": "code",
   "execution_count": null,
   "metadata": {},
   "outputs": [],
   "source": [
    "!open ."
   ]
  },
  {
   "cell_type": "code",
   "execution_count": null,
   "metadata": {},
   "outputs": [],
   "source": []
  },
  {
   "cell_type": "code",
   "execution_count": null,
   "metadata": {},
   "outputs": [],
   "source": []
  },
  {
   "cell_type": "code",
   "execution_count": null,
   "metadata": {},
   "outputs": [],
   "source": []
  },
  {
   "cell_type": "code",
   "execution_count": null,
   "metadata": {},
   "outputs": [],
   "source": []
  }
 ],
 "metadata": {
  "kernelspec": {
   "display_name": "Python 3",
   "language": "python",
   "name": "python3"
  },
  "language_info": {
   "codemirror_mode": {
    "name": "ipython",
    "version": 3
   },
   "file_extension": ".py",
   "mimetype": "text/x-python",
   "name": "python",
   "nbconvert_exporter": "python",
   "pygments_lexer": "ipython3",
   "version": "3.7.5"
  }
 },
 "nbformat": 4,
 "nbformat_minor": 4
}
